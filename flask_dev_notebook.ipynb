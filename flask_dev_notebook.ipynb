{
 "cells": [
  {
   "cell_type": "code",
   "execution_count": 9,
   "id": "02aac600-134c-42b0-a200-8f33c6a714cd",
   "metadata": {},
   "outputs": [],
   "source": [
    "from web3 import Web3\n",
    "from dotenv import load_dotenv, find_dotenv"
   ]
  },
  {
   "cell_type": "code",
   "execution_count": 18,
   "id": "69a38fc4-5b23-4573-83cc-1174dfa07573",
   "metadata": {},
   "outputs": [
    {
     "data": {
      "text/plain": [
       "True"
      ]
     },
     "execution_count": 18,
     "metadata": {},
     "output_type": "execute_result"
    }
   ],
   "source": [
    "load_dotenv('_.env')"
   ]
  },
  {
   "cell_type": "code",
   "execution_count": 11,
   "id": "90da03b6-7c21-4200-9465-dbabd782173b",
   "metadata": {},
   "outputs": [
    {
     "data": {
      "text/plain": [
       "'/usr/local/opt/php@7.3/bin:/Users/kevinlee/anaconda3/envs/dev/bin:/Users/kevinlee/anaconda3/condabin:/usr/local/bin:/usr/bin:/bin:/usr/sbin:/sbin:/usr/local/mongodb/bin:/Applications/Postgres.app/Contents/Versions/latest/bin'"
      ]
     },
     "execution_count": 11,
     "metadata": {},
     "output_type": "execute_result"
    }
   ],
   "source": [
    "import os\n",
    "os.getenv('PATH')"
   ]
  },
  {
   "cell_type": "code",
   "execution_count": 10,
   "id": "0fc15465-8634-4b8e-98ce-82717d4b343f",
   "metadata": {},
   "outputs": [
    {
     "data": {
      "text/plain": [
       "'/Users/kevinlee/Documents/python/projects/Fandom_Cash/_.env'"
      ]
     },
     "execution_count": 10,
     "metadata": {},
     "output_type": "execute_result"
    }
   ],
   "source": [
    "find_dotenv('_.env')"
   ]
  },
  {
   "cell_type": "code",
   "execution_count": 5,
   "id": "364eecb6-0560-425c-b047-14b79c6947d8",
   "metadata": {},
   "outputs": [],
   "source": [
    "w3=Web3(Web3.HTTPProvider('http://127.0.0.1:7545'))"
   ]
  },
  {
   "cell_type": "code",
   "execution_count": 6,
   "id": "c0a4d48b-727d-4c2f-a77b-070ee26a5fe7",
   "metadata": {},
   "outputs": [
    {
     "data": {
      "text/plain": [
       "AttributeDict({'number': 5,\n",
       " 'hash': HexBytes('0x90bb47231b7cca61c7994c098ce8721041cb8b9a7a9f3816052b206144b1794f'),\n",
       " 'parentHash': HexBytes('0x3bece52a856909fa28b80cb65290db3aee55d790b8965f382091b2e13b0d447d'),\n",
       " 'mixHash': HexBytes('0x0000000000000000000000000000000000000000000000000000000000000000'),\n",
       " 'nonce': HexBytes('0x0000000000000000'),\n",
       " 'sha3Uncles': HexBytes('0x1dcc4de8dec75d7aab85b567b6ccd41ad312451b948a7413f0a142fd40d49347'),\n",
       " 'logsBloom': HexBytes('0x00000000000000000000000000000000000000000000000000000000000000000000000000000000000000000000000000000000000000000000000000000000000000000000001000000008000000000000000000000000000000000000000000000000020000000000000000000800000000000000000000000010000100000000000000000000010000000000000000000000040002000000000000000000000000000000000000000000000000000000000000000000000000000000000000000002000000400000000000000000000000000000000000000000000020000000000000000000000000000000000000000000000000000000000000000000'),\n",
       " 'transactionsRoot': HexBytes('0x3c653c096dfc7da6e02532cab99af9adde4bf5a64cc83c6aae4d275cd5fa2689'),\n",
       " 'stateRoot': HexBytes('0x76da9bd6e51d74b35182f7d8e5869a8fe20a890f9736c7cabc1dfc4825b61058'),\n",
       " 'receiptsRoot': HexBytes('0xaa8d5de1ce9d347a204f395eb8c7483b04ab42c8881f1538259639fde37a0ba1'),\n",
       " 'miner': '0x0000000000000000000000000000000000000000',\n",
       " 'difficulty': 0,\n",
       " 'totalDifficulty': 0,\n",
       " 'extraData': HexBytes('0x'),\n",
       " 'size': 1000,\n",
       " 'gasLimit': 6721975,\n",
       " 'gasUsed': 1308413,\n",
       " 'timestamp': 1651708307,\n",
       " 'transactions': [HexBytes('0x1af1674757adffa1c55b123359295585169da40305fe72f28287904ba58b776b')],\n",
       " 'uncles': []})"
      ]
     },
     "execution_count": 6,
     "metadata": {},
     "output_type": "execute_result"
    }
   ],
   "source": [
    "w3.eth.get_block('latest')"
   ]
  },
  {
   "cell_type": "code",
   "execution_count": 12,
   "id": "db96292e-09ee-4659-9b08-56453dba5620",
   "metadata": {},
   "outputs": [],
   "source": [
    "import json"
   ]
  },
  {
   "cell_type": "code",
   "execution_count": 13,
   "id": "916091db-4b87-47d8-93a7-a38517895ffb",
   "metadata": {},
   "outputs": [],
   "source": [
    "with open('fandomcash_abi.txt') as f: \n",
    "    abi_json=json.load(f)"
   ]
  },
  {
   "cell_type": "code",
   "execution_count": 15,
   "id": "b9c5e50a-f0e6-4264-a495-7350f1146c9d",
   "metadata": {},
   "outputs": [],
   "source": [
    "fandomcash_contract=w3.eth.contract(os.getenv('CONTRACT_ADDRESS'), abi=abi_json)"
   ]
  },
  {
   "cell_type": "code",
   "execution_count": 16,
   "id": "28fcf684-6271-4999-b03f-9ba2a2614df7",
   "metadata": {},
   "outputs": [
    {
     "data": {
      "text/plain": [
       "1000000"
      ]
     },
     "execution_count": 16,
     "metadata": {},
     "output_type": "execute_result"
    }
   ],
   "source": [
    "fandomcash_contract.functions.balanceOf('0x6Ca71d58d75913783fb4Ec1402FE726450A57550').call()"
   ]
  },
  {
   "cell_type": "code",
   "execution_count": 20,
   "id": "16e5629e-f45a-4bdf-afba-78d8bfc6e025",
   "metadata": {},
   "outputs": [],
   "source": [
    "owner_add='0x6Ca71d58d75913783fb4Ec1402FE726450A57550'\n",
    "owner_sk=os.getenv('OWNER_SK')"
   ]
  },
  {
   "cell_type": "code",
   "execution_count": 31,
   "id": "e902f662-44a6-46c3-9d5e-c32879df3243",
   "metadata": {},
   "outputs": [],
   "source": [
    "def reward_token(recipient_add): \n",
    "    # recipient_add='0x20456945eDb5CD82D80f7947ABC06f428850aAdE'\n",
    "    amount=1\n",
    "    nonce=w3.eth.get_transaction_count(owner_add)\n",
    "    txn={'from': owner_add, 'gas': 1000000, 'nonce': nonce}\n",
    "    contract_tnx=fandomcash_contract.functions.transfer(recipient_add, amount).buildTransaction(txn)\n",
    "    signed_txn=w3.eth.account.sign_transaction(contract_tnx, private_key=owner_sk)\n",
    "    return w3.eth.send_raw_transaction(signed_txn.rawTransaction)"
   ]
  },
  {
   "cell_type": "code",
   "execution_count": 35,
   "id": "203a24da-7cae-4eb9-bce0-0ab56e517d1c",
   "metadata": {},
   "outputs": [
    {
     "data": {
      "text/plain": [
       "HexBytes('0x35cd58c417c2476fd9c307de296b45bb68178b3b546b3b6f2a471c4741c805b3')"
      ]
     },
     "execution_count": 35,
     "metadata": {},
     "output_type": "execute_result"
    }
   ],
   "source": [
    "reward_token('0x99C42cE16eEDb247b5b075abC65997AD1D4b34Bd')"
   ]
  },
  {
   "cell_type": "code",
   "execution_count": 36,
   "id": "c3b96a0e-d721-42fd-8790-906c188d8411",
   "metadata": {},
   "outputs": [
    {
     "data": {
      "text/plain": [
       "1"
      ]
     },
     "execution_count": 36,
     "metadata": {},
     "output_type": "execute_result"
    }
   ],
   "source": [
    "fandomcash_contract.functions.balanceOf('0x99C42cE16eEDb247b5b075abC65997AD1D4b34Bd').call()"
   ]
  },
  {
   "cell_type": "code",
   "execution_count": null,
   "id": "b4474851-4d85-4305-a444-4ae1a44232b0",
   "metadata": {},
   "outputs": [],
   "source": []
  }
 ],
 "metadata": {
  "kernelspec": {
   "display_name": "Python 3 (ipykernel)",
   "language": "python",
   "name": "python3"
  },
  "language_info": {
   "codemirror_mode": {
    "name": "ipython",
    "version": 3
   },
   "file_extension": ".py",
   "mimetype": "text/x-python",
   "name": "python",
   "nbconvert_exporter": "python",
   "pygments_lexer": "ipython3",
   "version": "3.7.11"
  }
 },
 "nbformat": 4,
 "nbformat_minor": 5
}
